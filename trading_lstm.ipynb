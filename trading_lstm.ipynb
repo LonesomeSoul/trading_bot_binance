{
 "cells": [
  {
   "cell_type": "code",
   "execution_count": 1,
   "id": "b5683431",
   "metadata": {},
   "outputs": [],
   "source": [
    "from binance.spot import Spot \n",
    "from sys import stderr\n",
    "import sys, os,datetime,requests,json,pandas as pd,numpy as np\n",
    "import time,math, gc\n",
    "\n",
    "from sklearn.linear_model import LogisticRegression\n",
    "from sklearn.svm import SVC, LinearSVC\n",
    "from sklearn.ensemble import RandomForestRegressor\n",
    "from sklearn.neighbors import KNeighborsClassifier\n",
    "from sklearn.naive_bayes import GaussianNB\n",
    "from sklearn.linear_model import Perceptron\n",
    "from sklearn.linear_model import SGDClassifier\n",
    "from sklearn.tree import DecisionTreeClassifier\n",
    "import sklearn\n",
    "from sklearn.model_selection import train_test_split\n",
    "min_max_scaler = sklearn.preprocessing.MinMaxScaler()\n",
    "\n",
    "\n",
    "\n",
    "import torch\n",
    "import torch.nn as nn\n",
    "import torch.nn.functional as F\n",
    "import torchvision\n"
   ]
  },
  {
   "cell_type": "code",
   "execution_count": 2,
   "id": "70764116",
   "metadata": {},
   "outputs": [],
   "source": [
    "device = torch.device(\"cuda:0\" if torch.cuda.is_available() else \"cpu\")\n",
    "\n",
    "def import_api(time_last,symbol=\"BTCUSDT\",limit=12*60):\n",
    "    params={\"symbol\":symbol,\"limit\":limit,\"interval\":\"1m\",\"endTime\":time_last,\"startTime\":(time_last-12*3600*1000)}\n",
    "    r=requests.get(url=\"https://api.binance.com/api/v3/klines\", params=params)\n",
    "    df=pd.DataFrame(r.json())\n",
    "    return df\n",
    "\n",
    "def transform_df (df):\n",
    "    column_names=['Open_time','Open','High','Low','Close','Volume','Close_time','Quote_asset_volume',\n",
    "               'Number_of_trades','Taker_buy_base_asset_volume','Taker_buy_quote_asset_volume','Ignore']\n",
    "    df=df.reset_index(drop=True)\n",
    "    df.set_axis(column_names,axis=1,inplace=True)\n",
    "    for col in df.columns:\n",
    "        df[col] = df[col].astype(float)\n",
    "    weekday=[]\n",
    "    month=[]\n",
    "    for i in range(df['Open'].size):\n",
    "        dt_open=datetime.datetime.fromtimestamp(df['Open_time'][i]//1000)\n",
    "        dt_close=datetime.datetime.fromtimestamp(df['Close_time'][i]//1000)\n",
    "        df['Open_time'][i]=dt_open.hour*3600+dt_open.minute*60+dt_open.second\n",
    "        df['Close_time'][i]=dt_close.hour*3600+dt_close.minute*60+dt_close.second\n",
    "        weekday.append(dt_open.weekday())\n",
    "        month.append(dt_open.month)\n",
    "        #df['Open_time'][i]=dt_open.strftime(\"%I:%M:%S\")\n",
    "        #df['Close_time'][i]=dt_close.strftime(\"%I:%M:%S\")\n",
    "    df['weekday']=weekday\n",
    "    df['month']=month\n",
    "    df=df.drop(df.columns[[7,10,11,13]],axis=1)\n",
    "    del(month)\n",
    "    del(weekday)\n",
    "    return df\n",
    "\n",
    "\n",
    "def moving_average(data,range_,concat=60):\n",
    "    leftover=len(data)%concat\n",
    "    data=data[::concat].reset_index(drop=True)\n",
    "    mean=[]\n",
    "    arr=[]\n",
    "    for i in range(range_):\n",
    "        this_mean=0\n",
    "        for j in range(i+1):\n",
    "            this_mean+=data[j]\n",
    "        mean.append(this_mean/(j+1))\n",
    "    if leftover:\n",
    "        data_size=len(data)-1\n",
    "    else:\n",
    "        data_size=len(data)\n",
    "    for i in range(range_,data_size):\n",
    "        this_mean=data[i]\n",
    "        for j in range(1,range_):\n",
    "            this_mean+=data[i-j]\n",
    "        mean.append(this_mean/(range_))\n",
    "    arr=leftover*[mean[0]]\n",
    "    for i in range(len(mean)):\n",
    "        arr+=concat*[mean[i]]\n",
    "    \n",
    "    \n",
    "    return arr\n",
    "\n",
    "def generate_previous(df,count,col_name):\n",
    "    #idxes=\n",
    "    df=df.reset_index(drop=True)\n",
    "    values=list(df[col_name][0:count])\n",
    "    columns={}\n",
    "    for i in range(count):\n",
    "        this_name=\"prev_\"+col_name+\"_\"+str(i+1)\n",
    "        columns[this_name]=[]\n",
    "    for i in range(count,df[col_name].size):\n",
    "        for j in range(count):\n",
    "            this_name=\"prev_\"+col_name+\"_\"+str(j+1)\n",
    "            columns[this_name].append(values[-(j+1)])\n",
    "        values.pop(0)\n",
    "        values.append(df[col_name][i])\n",
    "    size=df[col_name].size\n",
    "    df=df[count:size]\n",
    "    for i in range(count):\n",
    "        this_name=\"prev_\"+col_name+\"_\"+str(i+1)\n",
    "        df[this_name]=columns[this_name]\n",
    "    \n",
    "    return df.reset_index(drop=True)\n",
    "\n",
    "def df_to_X_y(df, window_size=5):\n",
    "    df_as_np = df.to_numpy()\n",
    "    X = []\n",
    "    y = []\n",
    "    for i in range(len(df_as_np)-window_size):\n",
    "        row = [a for a in (df.iloc[i:i+window_size].drop(\"target\",axis=1).values)]\n",
    "        X.append(row)\n",
    "        label = df[\"target\"][i+window_size-1]\n",
    "        y.append(label)\n",
    "    return np.array(X), np.array(y)\n",
    "\n",
    "def tensor_to_X_y(data, window_size=5):\n",
    "    X = []\n",
    "    y = []\n",
    "    data=pd.DataFrame(data.tolist())\n",
    "    columns=data.columns\n",
    "    for i in range(len(data)-window_size):\n",
    "        row = [a for a in (data.iloc[i:i+window_size].drop(data.columns[-1],axis=1).values)]\n",
    "        X.append(row)\n",
    "        label = data[data.columns[-1]][i+window_size-1]\n",
    "        y.append(label)\n",
    "    return np.array(X), np.array(y)\n",
    "def preprocess_df(df,target_range,hours,hours_interval,days,days_interval,scaling_range=0.2):\n",
    "    target=[]\n",
    "    concat_hours=3\n",
    "    concat_days=8\n",
    "    window=target_range\n",
    "    for i in range(df[\"Open\"].size-window):\n",
    "        target.append(df[\"Open\"][i+window])\n",
    "    df=df[0:df[\"Open\"].size-window]\n",
    "    df[\"target\"]=target\n",
    "    df=df.drop([\"Close_time\",\"Taker_buy_base_asset_volume\",\"Volume\",\"Close\",\"Low\",\"High\",\"Number_of_trades\"],axis=1)\n",
    "    for i in range(1,hours//hours_interval+1):\n",
    "        df[\"mean_\"+str(i*hours_interval)+\"_hours\"]=moving_average(df[\"Open\"],i*(12//concat_hours)*hours_interval,concat_hours)\n",
    "    for i in range(1,days//days_interval+1):\n",
    "        df[\"mean_\"+str(i*days_interval)+\"_days\"]=moving_average(df[\"Open\"],i*12*(24//concat_days)*days_interval,concat_days)\n",
    "    drop_col=[\"Open\",'Open_time','weekday']\n",
    "    open_delta=[]\n",
    "    df[\"weekday\"]=df[\"weekday\"].astype(float)\n",
    "    for col in df.drop(drop_col,axis=1).columns:\n",
    "        for i in range(df[\"Open\"].size):\n",
    "            df[col][i]=df[col][i]/df[\"Open\"][i]\n",
    "    for i in range(1,df[\"Open\"].size):\n",
    "        df[\"Open_time\"][i]/=86400\n",
    "        df[\"weekday\"][i]/=6.0\n",
    "        delta=df[\"Open\"][i]-df[\"Open\"][i-1]\n",
    "        open_delta.append(delta/df[\"Open\"][i])\n",
    "    df=df.drop(0,axis=0)\n",
    "    cols=df.columns[3:]\n",
    "    for i in cols:\n",
    "        for j in range(1,df[\"Open\"].size):\n",
    "            df[i][j]=(df[i][j]-(1-scaling_range))/(scaling_range*2)\n",
    "    return df\n",
    "\n",
    "def upscale(input_data,scaling_range):\n",
    "    return input_data*2*scaling_range-scaling_range+1"
   ]
  },
  {
   "cell_type": "code",
   "execution_count": null,
   "id": "d9b0fac4",
   "metadata": {},
   "outputs": [],
   "source": [
    "directory=\"G:\\Учеба\\биржа\""
   ]
  },
  {
   "cell_type": "code",
   "execution_count": 5,
   "id": "f813a972",
   "metadata": {},
   "outputs": [
    {
     "name": "stderr",
     "output_type": "stream",
     "text": [
      "C:\\Users\\DANIEL~1\\AppData\\Local\\Temp/ipykernel_6484/710069263.py:113: SettingWithCopyWarning: \n",
      "A value is trying to be set on a copy of a slice from a DataFrame.\n",
      "Try using .loc[row_indexer,col_indexer] = value instead\n",
      "\n",
      "See the caveats in the documentation: https://pandas.pydata.org/pandas-docs/stable/user_guide/indexing.html#returning-a-view-versus-a-copy\n",
      "  df[\"target\"]=target\n"
     ]
    }
   ],
   "source": [
    "df=pd.read_csv(directory+'\\\\eth_usdt_5min.csv')[20000:220000].reset_index(drop=True)\n",
    "df=preprocess_df(df,4,24,1,15,1)"
   ]
  },
  {
   "cell_type": "code",
   "execution_count": 6,
   "id": "253e61bf",
   "metadata": {},
   "outputs": [
    {
     "data": {
      "text/html": [
       "<div>\n",
       "<style scoped>\n",
       "    .dataframe tbody tr th:only-of-type {\n",
       "        vertical-align: middle;\n",
       "    }\n",
       "\n",
       "    .dataframe tbody tr th {\n",
       "        vertical-align: top;\n",
       "    }\n",
       "\n",
       "    .dataframe thead th {\n",
       "        text-align: right;\n",
       "    }\n",
       "</style>\n",
       "<table border=\"1\" class=\"dataframe\">\n",
       "  <thead>\n",
       "    <tr style=\"text-align: right;\">\n",
       "      <th></th>\n",
       "      <th>Open_time</th>\n",
       "      <th>Open</th>\n",
       "      <th>weekday</th>\n",
       "      <th>target</th>\n",
       "      <th>mean_1_hours</th>\n",
       "      <th>mean_2_hours</th>\n",
       "      <th>mean_3_hours</th>\n",
       "      <th>mean_4_hours</th>\n",
       "      <th>mean_5_hours</th>\n",
       "      <th>mean_6_hours</th>\n",
       "      <th>...</th>\n",
       "      <th>mean_6_days</th>\n",
       "      <th>mean_7_days</th>\n",
       "      <th>mean_8_days</th>\n",
       "      <th>mean_9_days</th>\n",
       "      <th>mean_10_days</th>\n",
       "      <th>mean_11_days</th>\n",
       "      <th>mean_12_days</th>\n",
       "      <th>mean_13_days</th>\n",
       "      <th>mean_14_days</th>\n",
       "      <th>mean_15_days</th>\n",
       "    </tr>\n",
       "  </thead>\n",
       "  <tbody>\n",
       "    <tr>\n",
       "      <th>1</th>\n",
       "      <td>0.927083</td>\n",
       "      <td>1948.28</td>\n",
       "      <td>0.333333</td>\n",
       "      <td>0.500026</td>\n",
       "      <td>0.517207</td>\n",
       "      <td>0.517207</td>\n",
       "      <td>0.517207</td>\n",
       "      <td>0.517207</td>\n",
       "      <td>0.517207</td>\n",
       "      <td>0.517207</td>\n",
       "      <td>...</td>\n",
       "      <td>0.517207</td>\n",
       "      <td>0.517207</td>\n",
       "      <td>0.517207</td>\n",
       "      <td>0.517207</td>\n",
       "      <td>0.517207</td>\n",
       "      <td>0.517207</td>\n",
       "      <td>0.517207</td>\n",
       "      <td>0.517207</td>\n",
       "      <td>0.517207</td>\n",
       "      <td>0.517207</td>\n",
       "    </tr>\n",
       "    <tr>\n",
       "      <th>2</th>\n",
       "      <td>0.930556</td>\n",
       "      <td>1966.87</td>\n",
       "      <td>0.333333</td>\n",
       "      <td>0.480044</td>\n",
       "      <td>0.493416</td>\n",
       "      <td>0.493416</td>\n",
       "      <td>0.493416</td>\n",
       "      <td>0.493416</td>\n",
       "      <td>0.493416</td>\n",
       "      <td>0.493416</td>\n",
       "      <td>...</td>\n",
       "      <td>0.493416</td>\n",
       "      <td>0.493416</td>\n",
       "      <td>0.493416</td>\n",
       "      <td>0.493416</td>\n",
       "      <td>0.493416</td>\n",
       "      <td>0.493416</td>\n",
       "      <td>0.493416</td>\n",
       "      <td>0.493416</td>\n",
       "      <td>0.493416</td>\n",
       "      <td>0.493416</td>\n",
       "    </tr>\n",
       "    <tr>\n",
       "      <th>3</th>\n",
       "      <td>0.934028</td>\n",
       "      <td>1958.46</td>\n",
       "      <td>0.333333</td>\n",
       "      <td>0.492737</td>\n",
       "      <td>0.502062</td>\n",
       "      <td>0.502062</td>\n",
       "      <td>0.502062</td>\n",
       "      <td>0.502062</td>\n",
       "      <td>0.502062</td>\n",
       "      <td>0.502062</td>\n",
       "      <td>...</td>\n",
       "      <td>0.504123</td>\n",
       "      <td>0.504123</td>\n",
       "      <td>0.504123</td>\n",
       "      <td>0.504123</td>\n",
       "      <td>0.504123</td>\n",
       "      <td>0.504123</td>\n",
       "      <td>0.504123</td>\n",
       "      <td>0.504123</td>\n",
       "      <td>0.504123</td>\n",
       "      <td>0.504123</td>\n",
       "    </tr>\n",
       "    <tr>\n",
       "      <th>4</th>\n",
       "      <td>0.937500</td>\n",
       "      <td>1946.10</td>\n",
       "      <td>0.333333</td>\n",
       "      <td>0.487642</td>\n",
       "      <td>0.517953</td>\n",
       "      <td>0.517953</td>\n",
       "      <td>0.517953</td>\n",
       "      <td>0.517953</td>\n",
       "      <td>0.517953</td>\n",
       "      <td>0.517953</td>\n",
       "      <td>...</td>\n",
       "      <td>0.520027</td>\n",
       "      <td>0.520027</td>\n",
       "      <td>0.520027</td>\n",
       "      <td>0.520027</td>\n",
       "      <td>0.520027</td>\n",
       "      <td>0.520027</td>\n",
       "      <td>0.520027</td>\n",
       "      <td>0.520027</td>\n",
       "      <td>0.520027</td>\n",
       "      <td>0.520027</td>\n",
       "    </tr>\n",
       "    <tr>\n",
       "      <th>5</th>\n",
       "      <td>0.940972</td>\n",
       "      <td>1948.30</td>\n",
       "      <td>0.333333</td>\n",
       "      <td>0.494688</td>\n",
       "      <td>0.515109</td>\n",
       "      <td>0.515109</td>\n",
       "      <td>0.515109</td>\n",
       "      <td>0.515109</td>\n",
       "      <td>0.515109</td>\n",
       "      <td>0.515109</td>\n",
       "      <td>...</td>\n",
       "      <td>0.517182</td>\n",
       "      <td>0.517182</td>\n",
       "      <td>0.517182</td>\n",
       "      <td>0.517182</td>\n",
       "      <td>0.517182</td>\n",
       "      <td>0.517182</td>\n",
       "      <td>0.517182</td>\n",
       "      <td>0.517182</td>\n",
       "      <td>0.517182</td>\n",
       "      <td>0.517182</td>\n",
       "    </tr>\n",
       "    <tr>\n",
       "      <th>...</th>\n",
       "      <td>...</td>\n",
       "      <td>...</td>\n",
       "      <td>...</td>\n",
       "      <td>...</td>\n",
       "      <td>...</td>\n",
       "      <td>...</td>\n",
       "      <td>...</td>\n",
       "      <td>...</td>\n",
       "      <td>...</td>\n",
       "      <td>...</td>\n",
       "      <td>...</td>\n",
       "      <td>...</td>\n",
       "      <td>...</td>\n",
       "      <td>...</td>\n",
       "      <td>...</td>\n",
       "      <td>...</td>\n",
       "      <td>...</td>\n",
       "      <td>...</td>\n",
       "      <td>...</td>\n",
       "      <td>...</td>\n",
       "      <td>...</td>\n",
       "    </tr>\n",
       "    <tr>\n",
       "      <th>85033</th>\n",
       "      <td>0.447917</td>\n",
       "      <td>2070.55</td>\n",
       "      <td>0.666667</td>\n",
       "      <td>0.489097</td>\n",
       "      <td>0.520547</td>\n",
       "      <td>0.533919</td>\n",
       "      <td>0.538233</td>\n",
       "      <td>0.533444</td>\n",
       "      <td>0.530005</td>\n",
       "      <td>0.517737</td>\n",
       "      <td>...</td>\n",
       "      <td>0.824131</td>\n",
       "      <td>0.884462</td>\n",
       "      <td>0.946661</td>\n",
       "      <td>1.007834</td>\n",
       "      <td>1.046077</td>\n",
       "      <td>1.080020</td>\n",
       "      <td>1.105423</td>\n",
       "      <td>1.125922</td>\n",
       "      <td>1.147639</td>\n",
       "      <td>1.173237</td>\n",
       "    </tr>\n",
       "    <tr>\n",
       "      <th>85034</th>\n",
       "      <td>0.451389</td>\n",
       "      <td>2059.36</td>\n",
       "      <td>0.666667</td>\n",
       "      <td>0.499490</td>\n",
       "      <td>0.534243</td>\n",
       "      <td>0.547688</td>\n",
       "      <td>0.552025</td>\n",
       "      <td>0.547211</td>\n",
       "      <td>0.543752</td>\n",
       "      <td>0.531418</td>\n",
       "      <td>...</td>\n",
       "      <td>0.839477</td>\n",
       "      <td>0.900135</td>\n",
       "      <td>0.962672</td>\n",
       "      <td>1.024177</td>\n",
       "      <td>1.062629</td>\n",
       "      <td>1.096756</td>\n",
       "      <td>1.122297</td>\n",
       "      <td>1.142908</td>\n",
       "      <td>1.164742</td>\n",
       "      <td>1.190479</td>\n",
       "    </tr>\n",
       "    <tr>\n",
       "      <th>85035</th>\n",
       "      <td>0.454861</td>\n",
       "      <td>2057.97</td>\n",
       "      <td>0.666667</td>\n",
       "      <td>0.506851</td>\n",
       "      <td>0.525219</td>\n",
       "      <td>0.541222</td>\n",
       "      <td>0.551567</td>\n",
       "      <td>0.545448</td>\n",
       "      <td>0.545482</td>\n",
       "      <td>0.535363</td>\n",
       "      <td>...</td>\n",
       "      <td>0.841395</td>\n",
       "      <td>0.902094</td>\n",
       "      <td>0.964673</td>\n",
       "      <td>1.026220</td>\n",
       "      <td>1.064697</td>\n",
       "      <td>1.098848</td>\n",
       "      <td>1.124405</td>\n",
       "      <td>1.145030</td>\n",
       "      <td>1.166880</td>\n",
       "      <td>1.192634</td>\n",
       "    </tr>\n",
       "    <tr>\n",
       "      <th>85036</th>\n",
       "      <td>0.458333</td>\n",
       "      <td>2048.17</td>\n",
       "      <td>0.666667</td>\n",
       "      <td>0.520433</td>\n",
       "      <td>0.537302</td>\n",
       "      <td>0.553381</td>\n",
       "      <td>0.563775</td>\n",
       "      <td>0.557627</td>\n",
       "      <td>0.557661</td>\n",
       "      <td>0.547494</td>\n",
       "      <td>...</td>\n",
       "      <td>0.854990</td>\n",
       "      <td>0.915980</td>\n",
       "      <td>0.978858</td>\n",
       "      <td>1.040700</td>\n",
       "      <td>1.079361</td>\n",
       "      <td>1.113675</td>\n",
       "      <td>1.139355</td>\n",
       "      <td>1.160079</td>\n",
       "      <td>1.182032</td>\n",
       "      <td>1.207910</td>\n",
       "    </tr>\n",
       "    <tr>\n",
       "      <th>85037</th>\n",
       "      <td>0.461806</td>\n",
       "      <td>2061.52</td>\n",
       "      <td>0.666667</td>\n",
       "      <td>1.002474</td>\n",
       "      <td>1.008348</td>\n",
       "      <td>1.014739</td>\n",
       "      <td>1.018869</td>\n",
       "      <td>1.016426</td>\n",
       "      <td>1.016439</td>\n",
       "      <td>1.012399</td>\n",
       "      <td>...</td>\n",
       "      <td>1.134601</td>\n",
       "      <td>1.158839</td>\n",
       "      <td>1.183827</td>\n",
       "      <td>1.208404</td>\n",
       "      <td>1.223768</td>\n",
       "      <td>1.237405</td>\n",
       "      <td>1.247610</td>\n",
       "      <td>1.255846</td>\n",
       "      <td>1.264570</td>\n",
       "      <td>1.274855</td>\n",
       "    </tr>\n",
       "  </tbody>\n",
       "</table>\n",
       "<p>85037 rows × 43 columns</p>\n",
       "</div>"
      ],
      "text/plain": [
       "       Open_time     Open   weekday    target  mean_1_hours  mean_2_hours  \\\n",
       "1       0.927083  1948.28  0.333333  0.500026      0.517207      0.517207   \n",
       "2       0.930556  1966.87  0.333333  0.480044      0.493416      0.493416   \n",
       "3       0.934028  1958.46  0.333333  0.492737      0.502062      0.502062   \n",
       "4       0.937500  1946.10  0.333333  0.487642      0.517953      0.517953   \n",
       "5       0.940972  1948.30  0.333333  0.494688      0.515109      0.515109   \n",
       "...          ...      ...       ...       ...           ...           ...   \n",
       "85033   0.447917  2070.55  0.666667  0.489097      0.520547      0.533919   \n",
       "85034   0.451389  2059.36  0.666667  0.499490      0.534243      0.547688   \n",
       "85035   0.454861  2057.97  0.666667  0.506851      0.525219      0.541222   \n",
       "85036   0.458333  2048.17  0.666667  0.520433      0.537302      0.553381   \n",
       "85037   0.461806  2061.52  0.666667  1.002474      1.008348      1.014739   \n",
       "\n",
       "       mean_3_hours  mean_4_hours  mean_5_hours  mean_6_hours  ...  \\\n",
       "1          0.517207      0.517207      0.517207      0.517207  ...   \n",
       "2          0.493416      0.493416      0.493416      0.493416  ...   \n",
       "3          0.502062      0.502062      0.502062      0.502062  ...   \n",
       "4          0.517953      0.517953      0.517953      0.517953  ...   \n",
       "5          0.515109      0.515109      0.515109      0.515109  ...   \n",
       "...             ...           ...           ...           ...  ...   \n",
       "85033      0.538233      0.533444      0.530005      0.517737  ...   \n",
       "85034      0.552025      0.547211      0.543752      0.531418  ...   \n",
       "85035      0.551567      0.545448      0.545482      0.535363  ...   \n",
       "85036      0.563775      0.557627      0.557661      0.547494  ...   \n",
       "85037      1.018869      1.016426      1.016439      1.012399  ...   \n",
       "\n",
       "       mean_6_days  mean_7_days  mean_8_days  mean_9_days  mean_10_days  \\\n",
       "1         0.517207     0.517207     0.517207     0.517207      0.517207   \n",
       "2         0.493416     0.493416     0.493416     0.493416      0.493416   \n",
       "3         0.504123     0.504123     0.504123     0.504123      0.504123   \n",
       "4         0.520027     0.520027     0.520027     0.520027      0.520027   \n",
       "5         0.517182     0.517182     0.517182     0.517182      0.517182   \n",
       "...            ...          ...          ...          ...           ...   \n",
       "85033     0.824131     0.884462     0.946661     1.007834      1.046077   \n",
       "85034     0.839477     0.900135     0.962672     1.024177      1.062629   \n",
       "85035     0.841395     0.902094     0.964673     1.026220      1.064697   \n",
       "85036     0.854990     0.915980     0.978858     1.040700      1.079361   \n",
       "85037     1.134601     1.158839     1.183827     1.208404      1.223768   \n",
       "\n",
       "       mean_11_days  mean_12_days  mean_13_days  mean_14_days  mean_15_days  \n",
       "1          0.517207      0.517207      0.517207      0.517207      0.517207  \n",
       "2          0.493416      0.493416      0.493416      0.493416      0.493416  \n",
       "3          0.504123      0.504123      0.504123      0.504123      0.504123  \n",
       "4          0.520027      0.520027      0.520027      0.520027      0.520027  \n",
       "5          0.517182      0.517182      0.517182      0.517182      0.517182  \n",
       "...             ...           ...           ...           ...           ...  \n",
       "85033      1.080020      1.105423      1.125922      1.147639      1.173237  \n",
       "85034      1.096756      1.122297      1.142908      1.164742      1.190479  \n",
       "85035      1.098848      1.124405      1.145030      1.166880      1.192634  \n",
       "85036      1.113675      1.139355      1.160079      1.182032      1.207910  \n",
       "85037      1.237405      1.247610      1.255846      1.264570      1.274855  \n",
       "\n",
       "[85037 rows x 43 columns]"
      ]
     },
     "execution_count": 6,
     "metadata": {},
     "output_type": "execute_result"
    }
   ],
   "source": [
    "df"
   ]
  },
  {
   "cell_type": "code",
   "execution_count": null,
   "id": "bcad7e91",
   "metadata": {},
   "outputs": [],
   "source": []
  },
  {
   "cell_type": "code",
   "execution_count": 7,
   "id": "d932e0eb",
   "metadata": {},
   "outputs": [],
   "source": [
    "class autoencoder(nn.Module):\n",
    "    def __init__(self,drop,hidden_size,test_size):\n",
    "        super(autoencoder, self).__init__()\n",
    "        self.norm=nn.BatchNorm1d(hidden_size)\n",
    "        self.fc1 = nn.Linear(41,hidden_size)\n",
    "        self.fc2 = nn.Linear(hidden_size, hidden_size,bias=True)\n",
    "        self.fc3 = nn.Linear(hidden_size, test_size,bias=True)\n",
    "        self.fc4 = nn.Linear(test_size, hidden_size,bias=True)\n",
    "        self.fc5 = nn.Linear(hidden_size, hidden_size,bias=True)\n",
    "        self.fc6 = nn.Linear(hidden_size, hidden_size,bias=True)\n",
    "        self.fc7 = nn.Linear(hidden_size, 41,bias=True)\n",
    "        self.dropout = nn.Dropout(drop)\n",
    "    def forward(self, x):\n",
    "        x = self.fc1(x)\n",
    "        x = F.relu(x)\n",
    "        x = self.fc2(x)\n",
    "        x = self.dropout(F.relu(x))\n",
    "        x = self.fc3(x)\n",
    "        x = F.relu(x)\n",
    "        x = self.fc4(x)\n",
    "        x = F.relu(x)\n",
    "        x = self.fc5(x)\n",
    "        x = self.dropout(F.relu(x))\n",
    "        x = self.fc6(x)\n",
    "        x = F.relu(x)\n",
    "        x = self.fc7(x)\n",
    "        return x\n",
    "    def encode (self,x):\n",
    "        x = self.fc1(x)\n",
    "        x = F.relu(x)\n",
    "        x = self.fc2(x)\n",
    "        x = F.relu(x)\n",
    "        x = self.fc3(x)\n",
    "        x = F.relu(x)\n",
    "        return x"
   ]
  },
  {
   "cell_type": "code",
   "execution_count": 8,
   "id": "fe0fa60c",
   "metadata": {},
   "outputs": [
    {
     "data": {
      "text/plain": [
       "autoencoder(\n",
       "  (norm): BatchNorm1d(64, eps=1e-05, momentum=0.1, affine=True, track_running_stats=True)\n",
       "  (fc1): Linear(in_features=41, out_features=64, bias=True)\n",
       "  (fc2): Linear(in_features=64, out_features=64, bias=True)\n",
       "  (fc3): Linear(in_features=64, out_features=10, bias=True)\n",
       "  (fc4): Linear(in_features=10, out_features=64, bias=True)\n",
       "  (fc5): Linear(in_features=64, out_features=64, bias=True)\n",
       "  (fc6): Linear(in_features=64, out_features=64, bias=True)\n",
       "  (fc7): Linear(in_features=64, out_features=41, bias=True)\n",
       "  (dropout): Dropout(p=0, inplace=False)\n",
       ")"
      ]
     },
     "execution_count": 8,
     "metadata": {},
     "output_type": "execute_result"
    }
   ],
   "source": [
    "encoder=autoencoder(0,64,10).cuda().double()\n",
    "encoder.load_state_dict(torch.load(directory+'\\\\encoder_05-07-2022_22-03-48_64_10.pth'))\n",
    "encoder.eval()"
   ]
  },
  {
   "cell_type": "code",
   "execution_count": 9,
   "id": "252e613d",
   "metadata": {},
   "outputs": [],
   "source": [
    "encoded=encoder.encode(torch.tensor(df.drop([\"Open\",\"target\"],axis=1).to_numpy(),device=\"cuda\"))"
   ]
  },
  {
   "cell_type": "code",
   "execution_count": 10,
   "id": "724c594a",
   "metadata": {},
   "outputs": [
    {
     "data": {
      "text/plain": [
       "tensor([1.4320, 1.4423, 1.4457,  ..., 3.8837, 3.8901, 2.2049], device='cuda:0',\n",
       "       dtype=torch.float64, grad_fn=<SelectBackward0>)"
      ]
     },
     "execution_count": 10,
     "metadata": {},
     "output_type": "execute_result"
    }
   ],
   "source": [
    "encoded[:,0]"
   ]
  },
  {
   "cell_type": "code",
   "execution_count": 11,
   "id": "87ad70f2",
   "metadata": {},
   "outputs": [
    {
     "data": {
      "text/plain": [
       "torch.Size([85037, 10])"
      ]
     },
     "execution_count": 11,
     "metadata": {},
     "output_type": "execute_result"
    }
   ],
   "source": [
    "encoded.shape"
   ]
  },
  {
   "cell_type": "code",
   "execution_count": 12,
   "id": "0e84204c",
   "metadata": {},
   "outputs": [
    {
     "data": {
      "text/plain": [
       "torch.Size([85037, 3])"
      ]
     },
     "execution_count": 12,
     "metadata": {},
     "output_type": "execute_result"
    }
   ],
   "source": [
    "arr=torch.tensor([0 for i in encoded[:,0]],device=\"cuda\")\n",
    "count=0\n",
    "for i in range(encoded.shape[1]):\n",
    "    if (set(encoded[:,i].tolist())!={0.0}):\n",
    "        arr=torch.cat((arr,encoded[:,i]),0)\n",
    "        count+=1\n",
    "arr=torch.reshape(arr,[count+1,encoded.shape[0]])[1:]\n",
    "arr=torch.reshape(arr,[encoded.shape[0],count])\n",
    "arr.shape"
   ]
  },
  {
   "cell_type": "code",
   "execution_count": 13,
   "id": "1c914d80",
   "metadata": {},
   "outputs": [],
   "source": [
    "arr=torch.cat([arr,torch.tensor(df[[\"Open\",\"target\"]].to_numpy(),device=\"cuda\")],1)"
   ]
  },
  {
   "cell_type": "code",
   "execution_count": 14,
   "id": "1de9124c",
   "metadata": {},
   "outputs": [
    {
     "data": {
      "text/plain": [
       "4"
      ]
     },
     "execution_count": 14,
     "metadata": {},
     "output_type": "execute_result"
    }
   ],
   "source": [
    "pd.DataFrame(arr.tolist()).columns[-1]"
   ]
  },
  {
   "cell_type": "code",
   "execution_count": 15,
   "id": "8454793f",
   "metadata": {},
   "outputs": [
    {
     "data": {
      "text/plain": [
       "torch.Size([85037, 5])"
      ]
     },
     "execution_count": 15,
     "metadata": {},
     "output_type": "execute_result"
    }
   ],
   "source": [
    "arr.shape"
   ]
  },
  {
   "cell_type": "code",
   "execution_count": 16,
   "id": "df86b263",
   "metadata": {},
   "outputs": [],
   "source": [
    "window_size=30\n",
    "#X,y=df_to_X_y(df,window_size)\n",
    "X,y=tensor_to_X_y(arr,window_size)\n",
    "#del(df)\n"
   ]
  },
  {
   "cell_type": "code",
   "execution_count": 17,
   "id": "e45fc3a9",
   "metadata": {},
   "outputs": [
    {
     "data": {
      "text/plain": [
       "(85007, 30, 4)"
      ]
     },
     "execution_count": 17,
     "metadata": {},
     "output_type": "execute_result"
    }
   ],
   "source": [
    "X.shape"
   ]
  },
  {
   "cell_type": "code",
   "execution_count": 18,
   "id": "a7096466",
   "metadata": {},
   "outputs": [
    {
     "data": {
      "text/plain": [
       "(85007,)"
      ]
     },
     "execution_count": 18,
     "metadata": {},
     "output_type": "execute_result"
    }
   ],
   "source": [
    "y.shape"
   ]
  },
  {
   "cell_type": "code",
   "execution_count": 19,
   "id": "2f764c64",
   "metadata": {},
   "outputs": [],
   "source": [
    "#X_train.shape"
   ]
  },
  {
   "cell_type": "code",
   "execution_count": 20,
   "id": "b8c94777",
   "metadata": {},
   "outputs": [],
   "source": [
    "#LSTM##\n",
    "\n",
    "class Net(nn.Module):\n",
    "    def __init__(self,drop,hidden_size,input_size):\n",
    "        super(Net, self).__init__()\n",
    "        self.norm=nn.BatchNorm1d(hidden_size)\n",
    "        self.fc1 = nn.LSTM(num_layers=1,input_size=input_size, hidden_size=hidden_size,batch_first=True)\n",
    "        self.fc2 = nn.Linear(hidden_size, hidden_size,bias=True)\n",
    "        self.fc3 = nn.Linear(hidden_size, hidden_size,bias=True)\n",
    "        self.fc4 = nn.Linear(hidden_size, hidden_size,bias=True)\n",
    "        self.fc5 = nn.Linear(hidden_size, hidden_size,bias=True)\n",
    "        self.fc6 = nn.Linear(hidden_size, 1,bias=True)\n",
    "        self.dropout = nn.Dropout(drop)\n",
    "    def forward(self, x):\n",
    "        x,_ = self.fc1(x)\n",
    "        x=x[:,-1,:]\n",
    "        x=F.tanh(x)\n",
    "        x = self.dropout(x)\n",
    "        x = F.logsigmoid(self.fc5(x))\n",
    "        x = self.dropout(x)\n",
    "        x = self.fc6(x)\n",
    "        return x\n",
    "    def predict(self, x):\n",
    "        x,_ = self.fc1(x)\n",
    "        x=x[:,-1,:]\n",
    "        #x=F.tanh(x)\n",
    "        x = self.dropout(x)\n",
    "        x = F.logsigmoid(self.fc5(x))\n",
    "        #x = self.dropout(x)\n",
    "        x = self.fc6(x)\n",
    "        return x"
   ]
  },
  {
   "cell_type": "code",
   "execution_count": 21,
   "id": "acaf1306",
   "metadata": {},
   "outputs": [],
   "source": [
    "#y_train"
   ]
  },
  {
   "cell_type": "code",
   "execution_count": 22,
   "id": "cd764a56",
   "metadata": {},
   "outputs": [],
   "source": [
    "def mae_func(pred_data,real_data):\n",
    "    mae=0\n",
    "    for i in range(len(pred_data)):\n",
    "        mae+=abs(pred_data[i]-real_data[i])\n",
    "    mae/=len(pred_data)\n",
    "    return mae"
   ]
  },
  {
   "cell_type": "code",
   "execution_count": null,
   "id": "16170cfc",
   "metadata": {},
   "outputs": [],
   "source": []
  },
  {
   "cell_type": "code",
   "execution_count": 24,
   "id": "be953dfb",
   "metadata": {},
   "outputs": [],
   "source": [
    "def train(learning_rate,batch_size,epochs,momentum,decay=0,min_error=0,direction_punish=0,direction_reward=0):\n",
    "    scaling_range=0.2\n",
    "    global net\n",
    "    parting=X_train.shape[0]//500\n",
    "    X_test_part=X_test[::parting]\n",
    "    X_train_part=X_train[::parting*10]\n",
    "    y_test_part=y_test[::parting]\n",
    "    y_train_part=y_train[::parting*10]\n",
    "    train_batches=math.ceil(len(X_train)/batch_size)-1\n",
    "    #net = Net(drop,hidden_size,X_train.shape[-1]).to(device).double()\n",
    "    #optimizer = torch.optim.SGD(net.parameters(), lr=learning_rate, momentum=momentum,weight_decay=decay)\n",
    "    optimizer = torch.optim.Adam(net.parameters(), lr=learning_rate,weight_decay=decay)\n",
    "    #criterion = nn.MSELoss()\n",
    "    criterion = nn.L1Loss()\n",
    "    train_loss=nn.L1Loss()\n",
    "    loss_train=[]\n",
    "    loss_test=[]\n",
    "    y_test_part_scaled=torch.tensor(y_test_part,device=\"cuda\")\n",
    "    y_train_part_scaled=torch.tensor(y_train_part,device=\"cuda\")\n",
    "    X_train_part_opens=X_train_opens[::parting*10]\n",
    "    X_test_part_opens=X_test_opens[::parting]\n",
    "    y_test_part_scaled=upscale(y_test_part_scaled,scaling_range)*X_test_part_opens\n",
    "    y_train_part_scaled=upscale(y_train_part_scaled,scaling_range)*X_train_part_opens\n",
    "    for epoch in range(epochs):\n",
    "        for batch in range(train_batches):\n",
    "            X_train_batch=X_train[batch*batch_size:(batch_size*(batch+1))]\n",
    "            X_opens_batch=X_train_opens[batch*batch_size:(batch_size*(batch+1))]\n",
    "            y_train_batch=torch.tensor(y_train[batch*batch_size:(batch_size*(batch+1))],device=\"cuda\")\n",
    "            y_targets=upscale(y_train_batch,scaling_range)*X_opens_batch\n",
    "            net_out=net(torch.tensor(X_train_batch,device=\"cuda\") ).reshape(-1,1)#*X_opens_batch\n",
    "            loss = criterion(net_out, torch.tensor(y_train_batch,device=\"cuda\"))\n",
    "            #loss = torch.sqrt(criterion(net_out, torch.tensor(y_train_batch,device=\"cuda\")))\n",
    "            #loss_train.append( loss)\n",
    "            #loss_test.append(criterion (net(torch.tensor(X_test[::100],device=\"cuda\")),torch.tensor(y_test[::100],device=\"cuda\")))\n",
    "            #print(net_out)\n",
    "            for i in range(net_out.shape[0]):\n",
    "                if((net_out[i]-0.5)*(y_train_batch[i]-0.5)<0):\n",
    "                    loss*=(1+direction_punish)\n",
    "                else:\n",
    "                    loss*=(1-direction_reward)\n",
    "            optimizer.zero_grad()\n",
    "            loss.backward()\n",
    "            optimizer.step()\n",
    "        with torch.no_grad():\n",
    "            #net_out_test=net(torch.tensor(X_test_part,device=\"cuda\"))\n",
    "            net_out_test=upscale(net(torch.tensor(X_test_part,device=\"cuda\")),scaling_range)*X_test_part_opens.reshape(-1,1)\n",
    "            #print(net_out_test[:20])\n",
    "            mae=mae_func(net_out_test,y_test_part_scaled)\n",
    "            loss_test.append(mae[0].item())\n",
    "            #net_out_train=net(torch.tensor(X_train_part,device=\"cuda\"))\n",
    "            net_out_train=upscale(net(torch.tensor(X_train_part,device=\"cuda\")),scaling_range)*X_train_part_opens#.reshape(-1,1)\n",
    "            loss_train.append(train_loss(net_out_train,y_train_part_scaled).item())\n",
    "        gc.collect()\n",
    "        if (loss_test[-1]<min_error):\n",
    "            break\n",
    "    return loss_train,loss_test"
   ]
  },
  {
   "cell_type": "code",
   "execution_count": 25,
   "id": "e1204767",
   "metadata": {},
   "outputs": [],
   "source": [
    "X_train, X_test, y_train, y_test = train_test_split(X,y,\n",
    "                                                        test_size = 0.10,\n",
    "                                                        random_state =123,\n",
    "                                                        shuffle=False)\n",
    "#X_train_opens=torch.tensor(X_train[:,:,1][:,window_size-1],device=\"cuda\") #for df_to_x_y\n",
    "#X_test_opens=torch.tensor(X_test[:,:,1][:,window_size-1],device=\"cuda\")\n",
    "#X_train=np.concatenate([X_train[:,:,2:],X_train[:,:,[0]]],axis=2)\n",
    "#X_test=np.concatenate([X_test[:,:,2:],X_test[:,:,[0]]],axis=2)\n",
    "\n",
    "X_train_opens=torch.tensor(X_train[:,:,-1][:,window_size-1],device=\"cuda\") #for tensor_to_x_y\n",
    "X_test_opens=torch.tensor(X_test[:,:,-1][:,window_size-1],device=\"cuda\")\n",
    "X_train=X_train[:,:,:-1]\n",
    "X_test=X_test[:,:,:-1]"
   ]
  },
  {
   "cell_type": "code",
   "execution_count": 26,
   "id": "abc916f8",
   "metadata": {},
   "outputs": [
    {
     "data": {
      "text/plain": [
       "<AxesSubplot:>"
      ]
     },
     "execution_count": 26,
     "metadata": {},
     "output_type": "execute_result"
    },
    {
     "data": {
      "image/png": "[encoded data removed]",
      "text/plain": [
       "<Figure size 432x288 with 1 Axes>"
      ]
     },
     "metadata": {
      "needs_background": "light"
     },
     "output_type": "display_data"
    }
   ],
   "source": [
    "pd.DataFrame(y).plot()"
   ]
  },
  {
   "cell_type": "code",
   "execution_count": 50,
   "id": "c916cc68",
   "metadata": {},
   "outputs": [],
   "source": [
    "#LOAD NET\n",
    "#name=\"\\\\net_23-07-2022_16-40-32_3_96\"\n",
    "#path=directory+name\n",
    "#net=Net(0.6,96,3).cuda().double()\n",
    "#net.load_state_dict(torch.load(path+\".pth\"))\n",
    "#net.eval()"
   ]
  },
  {
   "cell_type": "code",
   "execution_count": 27,
   "id": "9ed0e74b",
   "metadata": {},
   "outputs": [],
   "source": [
    "hidden_size=96\n",
    "drop=0.6\n",
    "net = Net(drop,hidden_size,X_train.shape[-1]).to(device).double()\n"
   ]
  },
  {
   "cell_type": "code",
   "execution_count": 49,
   "id": "6c44a3e9",
   "metadata": {
    "scrolled": true
   },
   "outputs": [
    {
     "name": "stderr",
     "output_type": "stream",
     "text": [
      "G:\\anaconda3\\lib\\site-packages\\torch\\nn\\functional.py:1933: UserWarning: nn.functional.tanh is deprecated. Use torch.tanh instead.\n",
      "  warnings.warn(\"nn.functional.tanh is deprecated. Use torch.tanh instead.\")\n",
      "C:\\Users\\DANIEL~1\\AppData\\Local\\Temp/ipykernel_6484/1113195600.py:31: UserWarning: To copy construct from a tensor, it is recommended to use sourceTensor.clone().detach() or sourceTensor.clone().detach().requires_grad_(True), rather than torch.tensor(sourceTensor).\n",
      "  loss = criterion(net_out, torch.tensor(y_train_batch,device=\"cuda\"))\n",
      "G:\\anaconda3\\lib\\site-packages\\torch\\nn\\modules\\loss.py:96: UserWarning: Using a target size (torch.Size([25])) that is different to the input size (torch.Size([25, 1])). This will likely lead to incorrect results due to broadcasting. Please ensure they have the same size.\n",
      "  return F.l1_loss(input, target, reduction=self.reduction)\n",
      "G:\\anaconda3\\lib\\site-packages\\torch\\nn\\modules\\loss.py:96: UserWarning: Using a target size (torch.Size([51])) that is different to the input size (torch.Size([51, 51])). This will likely lead to incorrect results due to broadcasting. Please ensure they have the same size.\n",
      "  return F.l1_loss(input, target, reduction=self.reduction)\n"
     ]
    },
    {
     "ename": "KeyboardInterrupt",
     "evalue": "",
     "output_type": "error",
     "traceback": [
      "\u001b[1;31m---------------------------------------------------------------------------\u001b[0m",
      "\u001b[1;31mKeyboardInterrupt\u001b[0m                         Traceback (most recent call last)",
      "\u001b[1;32mC:\\Users\\DANIEL~1\\AppData\\Local\\Temp/ipykernel_6484/3093076942.py\u001b[0m in \u001b[0;36m<module>\u001b[1;34m\u001b[0m\n\u001b[1;32m----> 1\u001b[1;33m \u001b[0mloss_train_single\u001b[0m\u001b[1;33m,\u001b[0m\u001b[0mloss_test_single\u001b[0m\u001b[1;33m=\u001b[0m\u001b[0mtrain\u001b[0m\u001b[1;33m(\u001b[0m\u001b[0mlearning_rate\u001b[0m\u001b[1;33m=\u001b[0m\u001b[1;36m0.001\u001b[0m\u001b[1;33m,\u001b[0m \u001b[0mbatch_size\u001b[0m\u001b[1;33m=\u001b[0m\u001b[1;36m25\u001b[0m\u001b[1;33m,\u001b[0m \u001b[0mepochs\u001b[0m\u001b[1;33m=\u001b[0m\u001b[1;36m50\u001b[0m\u001b[1;33m,\u001b[0m \u001b[0mmomentum\u001b[0m\u001b[1;33m=\u001b[0m\u001b[1;36m0.9\u001b[0m\u001b[1;33m,\u001b[0m\u001b[0mdecay\u001b[0m\u001b[1;33m=\u001b[0m\u001b[1;36m0.007\u001b[0m\u001b[1;33m,\u001b[0m\u001b[0mmin_error\u001b[0m\u001b[1;33m=\u001b[0m\u001b[1;36m7.5\u001b[0m\u001b[1;33m,\u001b[0m\u001b[0mdirection_punish\u001b[0m\u001b[1;33m=\u001b[0m\u001b[1;36m0.04\u001b[0m\u001b[1;33m,\u001b[0m\u001b[0mdirection_reward\u001b[0m\u001b[1;33m=\u001b[0m\u001b[1;36m0.02\u001b[0m\u001b[1;33m)\u001b[0m\u001b[1;33m\u001b[0m\u001b[1;33m\u001b[0m\u001b[0m\n\u001b[0m",
      "\u001b[1;32mC:\\Users\\DANIEL~1\\AppData\\Local\\Temp/ipykernel_6484/1113195600.py\u001b[0m in \u001b[0;36mtrain\u001b[1;34m(learning_rate, batch_size, epochs, momentum, decay, min_error, direction_punish, direction_reward)\u001b[0m\n\u001b[0;32m     36\u001b[0m             \u001b[1;32mfor\u001b[0m \u001b[0mi\u001b[0m \u001b[1;32min\u001b[0m \u001b[0mrange\u001b[0m\u001b[1;33m(\u001b[0m\u001b[0mnet_out\u001b[0m\u001b[1;33m.\u001b[0m\u001b[0mshape\u001b[0m\u001b[1;33m[\u001b[0m\u001b[1;36m0\u001b[0m\u001b[1;33m]\u001b[0m\u001b[1;33m)\u001b[0m\u001b[1;33m:\u001b[0m\u001b[1;33m\u001b[0m\u001b[1;33m\u001b[0m\u001b[0m\n\u001b[0;32m     37\u001b[0m                 \u001b[1;32mif\u001b[0m\u001b[1;33m(\u001b[0m\u001b[1;33m(\u001b[0m\u001b[0mnet_out\u001b[0m\u001b[1;33m[\u001b[0m\u001b[0mi\u001b[0m\u001b[1;33m]\u001b[0m\u001b[1;33m-\u001b[0m\u001b[1;36m0.5\u001b[0m\u001b[1;33m)\u001b[0m\u001b[1;33m*\u001b[0m\u001b[1;33m(\u001b[0m\u001b[0my_train_batch\u001b[0m\u001b[1;33m[\u001b[0m\u001b[0mi\u001b[0m\u001b[1;33m]\u001b[0m\u001b[1;33m-\u001b[0m\u001b[1;36m0.5\u001b[0m\u001b[1;33m)\u001b[0m\u001b[1;33m<\u001b[0m\u001b[1;36m0\u001b[0m\u001b[1;33m)\u001b[0m\u001b[1;33m:\u001b[0m\u001b[1;33m\u001b[0m\u001b[1;33m\u001b[0m\u001b[0m\n\u001b[1;32m---> 38\u001b[1;33m                     \u001b[0mloss\u001b[0m\u001b[1;33m*=\u001b[0m\u001b[1;33m(\u001b[0m\u001b[1;36m1\u001b[0m\u001b[1;33m+\u001b[0m\u001b[0mdirection_punish\u001b[0m\u001b[1;33m)\u001b[0m\u001b[1;33m\u001b[0m\u001b[1;33m\u001b[0m\u001b[0m\n\u001b[0m\u001b[0;32m     39\u001b[0m                 \u001b[1;32melse\u001b[0m\u001b[1;33m:\u001b[0m\u001b[1;33m\u001b[0m\u001b[1;33m\u001b[0m\u001b[0m\n\u001b[0;32m     40\u001b[0m                     \u001b[0mloss\u001b[0m\u001b[1;33m*=\u001b[0m\u001b[1;33m(\u001b[0m\u001b[1;36m1\u001b[0m\u001b[1;33m-\u001b[0m\u001b[0mdirection_reward\u001b[0m\u001b[1;33m)\u001b[0m\u001b[1;33m\u001b[0m\u001b[1;33m\u001b[0m\u001b[0m\n",
      "\u001b[1;31mKeyboardInterrupt\u001b[0m: "
     ]
    }
   ],
   "source": [
    "loss_train_single,loss_test_single=train(learning_rate=0.001, batch_size=25, epochs=50, momentum=0.9,decay=0.007,min_error=7.5,direction_punish=0.04,direction_reward=0.02)\n"
   ]
  },
  {
   "cell_type": "code",
   "execution_count": 48,
   "id": "1f268ef4",
   "metadata": {},
   "outputs": [],
   "source": [
    "#SAVE NET\n",
    "time_now=datetime.datetime.now()\n",
    "time_now=time_now.strftime(\"\\\\net_%d-%m-%Y_%H-%M-%S_\")+str(X_test.shape[2])+\"_\"+str(hidden_size)\n",
    "path=directory\n",
    "end=\".pth\"\n",
    "path=path+time_now+end\n",
    "torch.save(net.state_dict(), path)"
   ]
  },
  {
   "cell_type": "code",
   "execution_count": null,
   "id": "4132bb92",
   "metadata": {},
   "outputs": [],
   "source": []
  },
  {
   "cell_type": "code",
   "execution_count": 40,
   "id": "e3e2f6aa",
   "metadata": {},
   "outputs": [
    {
     "data": {
      "text/plain": [
       "<AxesSubplot:>"
      ]
     },
     "execution_count": 40,
     "metadata": {},
     "output_type": "execute_result"
    },
    {
     "data": {
      "image/png": "[encoded data removed]",
      "text/plain": [
       "<Figure size 432x288 with 1 Axes>"
      ]
     },
     "metadata": {
      "needs_background": "light"
     },
     "output_type": "display_data"
    }
   ],
   "source": [
    "pd.DataFrame([loss_train_single[1:],loss_test_single[1:]]).T.plot()"
   ]
  },
  {
   "cell_type": "code",
   "execution_count": 41,
   "id": "42f835fc",
   "metadata": {},
   "outputs": [
    {
     "data": {
      "text/plain": [
       "10.849590892956606"
      ]
     },
     "execution_count": 41,
     "metadata": {},
     "output_type": "execute_result"
    }
   ],
   "source": [
    "loss_test_single[-1]"
   ]
  },
  {
   "cell_type": "code",
   "execution_count": 42,
   "id": "34a98c0e",
   "metadata": {
    "scrolled": true
   },
   "outputs": [
    {
     "data": {
      "text/plain": [
       "9.987332104548228"
      ]
     },
     "execution_count": 42,
     "metadata": {},
     "output_type": "execute_result"
    }
   ],
   "source": [
    "np.min(loss_test_single)"
   ]
  },
  {
   "cell_type": "code",
   "execution_count": 171,
   "id": "697cf6e3",
   "metadata": {},
   "outputs": [
    {
     "name": "stderr",
     "output_type": "stream",
     "text": [
      "G:\\anaconda3\\lib\\site-packages\\torch\\nn\\functional.py:1933: UserWarning: nn.functional.tanh is deprecated. Use torch.tanh instead.\n",
      "  warnings.warn(\"nn.functional.tanh is deprecated. Use torch.tanh instead.\")\n"
     ]
    },
    {
     "data": {
      "text/plain": [
       "0.005732831134146506"
      ]
     },
     "execution_count": 171,
     "metadata": {},
     "output_type": "execute_result"
    }
   ],
   "source": [
    "np.std(net(torch.tensor(X_test[:100],device=\"cuda\") ).tolist())"
   ]
  },
  {
   "cell_type": "code",
   "execution_count": null,
   "id": "124be9bb",
   "metadata": {},
   "outputs": [],
   "source": []
  },
  {
   "cell_type": "code",
   "execution_count": 47,
   "id": "0c0c10a2",
   "metadata": {},
   "outputs": [
    {
     "name": "stderr",
     "output_type": "stream",
     "text": [
      "G:\\anaconda3\\lib\\site-packages\\torch\\nn\\functional.py:1933: UserWarning: nn.functional.tanh is deprecated. Use torch.tanh instead.\n",
      "  warnings.warn(\"nn.functional.tanh is deprecated. Use torch.tanh instead.\")\n"
     ]
    },
    {
     "data": {
      "text/plain": [
       "<AxesSubplot:>"
      ]
     },
     "execution_count": 47,
     "metadata": {},
     "output_type": "execute_result"
    },
    {
     "data": {
      "image/png": "[encoded data removed]",
      "text/plain": [
       "<Figure size 432x288 with 1 Axes>"
      ]
     },
     "metadata": {
      "needs_background": "light"
     },
     "output_type": "display_data"
    }
   ],
   "source": [
    "#pd.DataFrame([loss_train[-0:][33],loss_test[-0:][33]]).T.plot()\n",
    "#preds=pd.DataFrame(net.predict(torch.tensor(X_test[::100][:-10],device=\"cuda\") ).tolist())\n",
    "#preds=pd.DataFrame(net(torch.tensor(X_test[::100][:-10],device=\"cuda\") ).tolist())\n",
    "array=[]\n",
    "preds=[]\n",
    "for i in range(1):\n",
    "    array.append(net(torch.tensor(X_test[::75][:-15],device=\"cuda\") ).tolist())\n",
    "array=np.asarray(array)\n",
    "for i in range(len(array[0])):\n",
    "    preds.append(np.mean(array[:,i]))\n",
    "preds=pd.DataFrame(preds)    \n",
    "\n",
    "data=pd.DataFrame(y_test[::75][:-15])\n",
    "data[\"preds\"]=preds\n",
    "data[\"0.5\"]=pd.DataFrame([0.5 for i in range(preds.size)])\n",
    "data.plot()"
   ]
  },
  {
   "cell_type": "code",
   "execution_count": 87,
   "id": "92814743",
   "metadata": {},
   "outputs": [
    {
     "name": "stdout",
     "output_type": "stream",
     "text": [
      "0.6\n"
     ]
    },
    {
     "name": "stderr",
     "output_type": "stream",
     "text": [
      "G:\\anaconda3\\lib\\site-packages\\torch\\nn\\functional.py:1933: UserWarning: nn.functional.tanh is deprecated. Use torch.tanh instead.\n",
      "  warnings.warn(\"nn.functional.tanh is deprecated. Use torch.tanh instead.\")\n",
      "C:\\Users\\DANIEL~1\\AppData\\Local\\Temp/ipykernel_9792/1113195600.py:31: UserWarning: To copy construct from a tensor, it is recommended to use sourceTensor.clone().detach() or sourceTensor.clone().detach().requires_grad_(True), rather than torch.tensor(sourceTensor).\n",
      "  loss = criterion(net_out, torch.tensor(y_train_batch,device=\"cuda\"))\n",
      "G:\\anaconda3\\lib\\site-packages\\torch\\nn\\modules\\loss.py:96: UserWarning: Using a target size (torch.Size([50])) that is different to the input size (torch.Size([50, 1])). This will likely lead to incorrect results due to broadcasting. Please ensure they have the same size.\n",
      "  return F.l1_loss(input, target, reduction=self.reduction)\n",
      "G:\\anaconda3\\lib\\site-packages\\torch\\nn\\modules\\loss.py:96: UserWarning: Using a target size (torch.Size([51])) that is different to the input size (torch.Size([51, 51])). This will likely lead to incorrect results due to broadcasting. Please ensure they have the same size.\n",
      "  return F.l1_loss(input, target, reduction=self.reduction)\n"
     ]
    },
    {
     "name": "stdout",
     "output_type": "stream",
     "text": [
      "0.6\n",
      "0.6\n",
      "0.6\n",
      "0.6\n",
      "0.6\n"
     ]
    },
    {
     "ename": "KeyboardInterrupt",
     "evalue": "",
     "output_type": "error",
     "traceback": [
      "\u001b[1;31m---------------------------------------------------------------------------\u001b[0m",
      "\u001b[1;31mKeyboardInterrupt\u001b[0m                         Traceback (most recent call last)",
      "\u001b[1;32mC:\\Users\\DANIEL~1\\AppData\\Local\\Temp/ipykernel_9792/374017803.py\u001b[0m in \u001b[0;36m<module>\u001b[1;34m\u001b[0m\n\u001b[0;32m     19\u001b[0m     \u001b[1;32mfor\u001b[0m \u001b[0mdecay\u001b[0m \u001b[1;32min\u001b[0m \u001b[0mnp\u001b[0m\u001b[1;33m.\u001b[0m\u001b[0marange\u001b[0m\u001b[1;33m(\u001b[0m\u001b[1;36m0\u001b[0m\u001b[1;33m,\u001b[0m\u001b[1;36m0.013\u001b[0m\u001b[1;33m,\u001b[0m\u001b[1;36m0.002\u001b[0m\u001b[1;33m)\u001b[0m\u001b[1;33m:\u001b[0m\u001b[1;33m\u001b[0m\u001b[1;33m\u001b[0m\u001b[0m\n\u001b[0;32m     20\u001b[0m         \u001b[0mnet\u001b[0m \u001b[1;33m=\u001b[0m \u001b[0mNet\u001b[0m\u001b[1;33m(\u001b[0m\u001b[0mdrop\u001b[0m\u001b[1;33m,\u001b[0m\u001b[0mhidden_size\u001b[0m\u001b[1;33m,\u001b[0m\u001b[0mX_train\u001b[0m\u001b[1;33m.\u001b[0m\u001b[0mshape\u001b[0m\u001b[1;33m[\u001b[0m\u001b[1;33m-\u001b[0m\u001b[1;36m1\u001b[0m\u001b[1;33m]\u001b[0m\u001b[1;33m)\u001b[0m\u001b[1;33m.\u001b[0m\u001b[0mto\u001b[0m\u001b[1;33m(\u001b[0m\u001b[0mdevice\u001b[0m\u001b[1;33m)\u001b[0m\u001b[1;33m.\u001b[0m\u001b[0mdouble\u001b[0m\u001b[1;33m(\u001b[0m\u001b[1;33m)\u001b[0m\u001b[1;33m\u001b[0m\u001b[1;33m\u001b[0m\u001b[0m\n\u001b[1;32m---> 21\u001b[1;33m         \u001b[0mloss\u001b[0m\u001b[1;33m=\u001b[0m\u001b[0mtrain\u001b[0m\u001b[1;33m(\u001b[0m\u001b[0mlr\u001b[0m\u001b[1;33m,\u001b[0m \u001b[0mb_size\u001b[0m\u001b[1;33m,\u001b[0m \u001b[0mepoch\u001b[0m\u001b[1;33m,\u001b[0m\u001b[1;36m0.9\u001b[0m\u001b[1;33m,\u001b[0m\u001b[0mdecay\u001b[0m\u001b[1;33m=\u001b[0m\u001b[0mdecay\u001b[0m\u001b[1;33m,\u001b[0m\u001b[0mdirection_punish\u001b[0m\u001b[1;33m=\u001b[0m\u001b[1;36m0.01\u001b[0m\u001b[1;33m,\u001b[0m\u001b[0mdirection_reward\u001b[0m\u001b[1;33m=\u001b[0m\u001b[1;36m0.01\u001b[0m\u001b[1;33m)\u001b[0m\u001b[1;33m\u001b[0m\u001b[1;33m\u001b[0m\u001b[0m\n\u001b[0m\u001b[0;32m     22\u001b[0m         \u001b[1;31m#drop,learning_rate,batch_size,epochs,momentum,hidden_size=128,decay=0\u001b[0m\u001b[1;33m\u001b[0m\u001b[1;33m\u001b[0m\u001b[1;33m\u001b[0m\u001b[0m\n\u001b[0;32m     23\u001b[0m         \u001b[1;32mfor\u001b[0m \u001b[0mi\u001b[0m \u001b[1;32min\u001b[0m \u001b[0mrange\u001b[0m\u001b[1;33m(\u001b[0m\u001b[0mepoch\u001b[0m\u001b[1;33m)\u001b[0m\u001b[1;33m:\u001b[0m\u001b[1;33m\u001b[0m\u001b[1;33m\u001b[0m\u001b[0m\n",
      "\u001b[1;32mC:\\Users\\DANIEL~1\\AppData\\Local\\Temp/ipykernel_9792/1113195600.py\u001b[0m in \u001b[0;36mtrain\u001b[1;34m(learning_rate, batch_size, epochs, momentum, decay, min_error, direction_punish, direction_reward)\u001b[0m\n\u001b[0;32m     35\u001b[0m             \u001b[1;31m#print(net_out)\u001b[0m\u001b[1;33m\u001b[0m\u001b[1;33m\u001b[0m\u001b[1;33m\u001b[0m\u001b[0m\n\u001b[0;32m     36\u001b[0m             \u001b[1;32mfor\u001b[0m \u001b[0mi\u001b[0m \u001b[1;32min\u001b[0m \u001b[0mrange\u001b[0m\u001b[1;33m(\u001b[0m\u001b[0mnet_out\u001b[0m\u001b[1;33m.\u001b[0m\u001b[0mshape\u001b[0m\u001b[1;33m[\u001b[0m\u001b[1;36m0\u001b[0m\u001b[1;33m]\u001b[0m\u001b[1;33m)\u001b[0m\u001b[1;33m:\u001b[0m\u001b[1;33m\u001b[0m\u001b[1;33m\u001b[0m\u001b[0m\n\u001b[1;32m---> 37\u001b[1;33m                 \u001b[1;32mif\u001b[0m\u001b[1;33m(\u001b[0m\u001b[1;33m(\u001b[0m\u001b[0mnet_out\u001b[0m\u001b[1;33m[\u001b[0m\u001b[0mi\u001b[0m\u001b[1;33m]\u001b[0m\u001b[1;33m-\u001b[0m\u001b[1;36m0.5\u001b[0m\u001b[1;33m)\u001b[0m\u001b[1;33m*\u001b[0m\u001b[1;33m(\u001b[0m\u001b[0my_train_batch\u001b[0m\u001b[1;33m[\u001b[0m\u001b[0mi\u001b[0m\u001b[1;33m]\u001b[0m\u001b[1;33m-\u001b[0m\u001b[1;36m0.5\u001b[0m\u001b[1;33m)\u001b[0m\u001b[1;33m<\u001b[0m\u001b[1;36m0\u001b[0m\u001b[1;33m)\u001b[0m\u001b[1;33m:\u001b[0m\u001b[1;33m\u001b[0m\u001b[1;33m\u001b[0m\u001b[0m\n\u001b[0m\u001b[0;32m     38\u001b[0m                     \u001b[0mloss\u001b[0m\u001b[1;33m*=\u001b[0m\u001b[1;33m(\u001b[0m\u001b[1;36m1\u001b[0m\u001b[1;33m+\u001b[0m\u001b[0mdirection_punish\u001b[0m\u001b[1;33m)\u001b[0m\u001b[1;33m\u001b[0m\u001b[1;33m\u001b[0m\u001b[0m\n\u001b[0;32m     39\u001b[0m                 \u001b[1;32melse\u001b[0m\u001b[1;33m:\u001b[0m\u001b[1;33m\u001b[0m\u001b[1;33m\u001b[0m\u001b[0m\n",
      "\u001b[1;31mKeyboardInterrupt\u001b[0m: "
     ]
    }
   ],
   "source": [
    "#GRID SEARCH NET PARAMETERS\n",
    "loss_test=[]\n",
    "loss_train=[]\n",
    "stds=[]\n",
    "epoch=15\n",
    "b_size=50\n",
    "drop=0.6\n",
    "decay=0\n",
    "lr=0.002\n",
    "hidden_size=64\n",
    "min_params_test=[]\n",
    "min_params_train=[]\n",
    "min_loss=[10000,1000]\n",
    "#for epoch in range(10,20,5):\n",
    "for lr in np.arange(0.001,0.011,0.001):\n",
    "    #for drop in np.arange(0.55,0.76,0.05):\n",
    "    print(drop)\n",
    "        #for b_size in range(25,55,25):\n",
    "    #for hidden_size in range(64,129,64):\n",
    "    for decay in np.arange(0,0.013,0.002):\n",
    "        net = Net(drop,hidden_size,X_train.shape[-1]).to(device).double()\n",
    "        loss=train(lr, b_size, epoch,0.9,decay=decay,direction_punish=0.01,direction_reward=0.01)\n",
    "        #drop,learning_rate,batch_size,epochs,momentum,hidden_size=128,decay=0\n",
    "        for i in range(epoch):\n",
    "            # 0 - train, 1 - test\n",
    "            if loss[0][i]<min_loss[0]:\n",
    "                min_loss[0]=loss[0][i]\n",
    "                min_params_train=[lr,drop,b_size,hidden_size,decay,i]\n",
    "            if loss[1][i]<min_loss[1]:\n",
    "                min_loss[1]=loss[1][i]\n",
    "                min_params_test=[lr,drop,b_size,hidden_size,decay,i]\n",
    "        loss_test.append(loss[1])\n",
    "        loss_train.append(loss[0])\n",
    "        stds.append(np.std(net(torch.tensor(X_test[:15],device=\"cuda\") ).tolist()))"
   ]
  },
  {
   "cell_type": "code",
   "execution_count": 88,
   "id": "3b7ca16b",
   "metadata": {},
   "outputs": [],
   "source": [
    "loss_train_mean=[]\n",
    "loss_test_mean=[]\n",
    "for i in range(len(loss_test)):\n",
    "    loss_train_mean.append(np.mean(loss_train[i][2:]))\n",
    "    loss_test_mean.append(np.mean(loss_test[i][2:]))"
   ]
  },
  {
   "cell_type": "code",
   "execution_count": 89,
   "id": "20286778",
   "metadata": {},
   "outputs": [
    {
     "data": {
      "text/plain": [
       "<AxesSubplot:>"
      ]
     },
     "execution_count": 89,
     "metadata": {},
     "output_type": "execute_result"
    },
    {
     "data": {
      "image/png": "[encoded data removed]",
      "text/plain": [
       "<Figure size 432x288 with 1 Axes>"
      ]
     },
     "metadata": {
      "needs_background": "light"
     },
     "output_type": "display_data"
    }
   ],
   "source": [
    "#pd.DataFrame([loss_train_mean[:50],loss_test_mean[:50]]).T.plot()\n",
    "pd.DataFrame([loss_train_mean,loss_test_mean]).T.plot()"
   ]
  },
  {
   "cell_type": "code",
   "execution_count": 90,
   "id": "eedbf758",
   "metadata": {},
   "outputs": [
    {
     "data": {
      "text/plain": [
       "<AxesSubplot:>"
      ]
     },
     "execution_count": 90,
     "metadata": {},
     "output_type": "execute_result"
    },
    {
     "data": {
      "image/png": "[encoded data removed]",
      "text/plain": [
       "<Figure size 432x288 with 1 Axes>"
      ]
     },
     "metadata": {
      "needs_background": "light"
     },
     "output_type": "display_data"
    }
   ],
   "source": [
    "pd.DataFrame(stds).plot()"
   ]
  },
  {
   "cell_type": "code",
   "execution_count": 91,
   "id": "49180f59",
   "metadata": {},
   "outputs": [
    {
     "data": {
      "text/plain": [
       "[9.951819071551732, 7.921387273727845]"
      ]
     },
     "execution_count": 91,
     "metadata": {},
     "output_type": "execute_result"
    }
   ],
   "source": [
    "min_loss"
   ]
  },
  {
   "cell_type": "code",
   "execution_count": 92,
   "id": "46b5d724",
   "metadata": {},
   "outputs": [
    {
     "data": {
      "text/plain": [
       "[0.001, 0.6, 50, 64, 0.012, 12]"
      ]
     },
     "execution_count": 92,
     "metadata": {},
     "output_type": "execute_result"
    }
   ],
   "source": [
    "min_params_test \n",
    "#lr, drop, b_size, h_size, decay, i"
   ]
  },
  {
   "cell_type": "code",
   "execution_count": 64,
   "id": "8591d84d",
   "metadata": {},
   "outputs": [
    {
     "data": {
      "text/plain": [
       "<AxesSubplot:>"
      ]
     },
     "execution_count": 64,
     "metadata": {},
     "output_type": "execute_result"
    },
    {
     "data": {
      "image/png": "[encoded data removed]",
      "text/plain": [
       "<Figure size 432x288 with 1 Axes>"
      ]
     },
     "metadata": {
      "needs_background": "light"
     },
     "output_type": "display_data"
    }
   ],
   "source": [
    "pd.DataFrame(net.fc5.weight.tolist()).max().plot()"
   ]
  },
  {
   "cell_type": "code",
   "execution_count": 38,
   "id": "9460424b",
   "metadata": {},
   "outputs": [],
   "source": []
  },
  {
   "cell_type": "code",
   "execution_count": 48,
   "id": "866f8b21",
   "metadata": {},
   "outputs": [
    {
     "data": {
      "text/plain": [
       "8.686430052511191"
      ]
     },
     "execution_count": 48,
     "metadata": {},
     "output_type": "execute_result"
    }
   ],
   "source": [
    "np.min(loss_test_mean)"
   ]
  },
  {
   "cell_type": "code",
   "execution_count": 49,
   "id": "baa33b80",
   "metadata": {},
   "outputs": [
    {
     "data": {
      "text/plain": [
       "10.565900048965338"
      ]
     },
     "execution_count": 49,
     "metadata": {},
     "output_type": "execute_result"
    }
   ],
   "source": [
    "np.min(loss_train_mean)"
   ]
  },
  {
   "cell_type": "code",
   "execution_count": 35,
   "id": "cb980c51",
   "metadata": {},
   "outputs": [
    {
     "data": {
      "text/plain": [
       "210.85808172381576"
      ]
     },
     "execution_count": 35,
     "metadata": {},
     "output_type": "execute_result"
    }
   ],
   "source": [
    "loss_test_mean[0]"
   ]
  },
  {
   "cell_type": "code",
   "execution_count": 51,
   "id": "6babb4e1",
   "metadata": {},
   "outputs": [
    {
     "data": {
      "text/plain": [
       "8.58927655685896"
      ]
     },
     "execution_count": 51,
     "metadata": {},
     "output_type": "execute_result"
    }
   ],
   "source": [
    "np.min(loss_test)"
   ]
  },
  {
   "cell_type": "code",
   "execution_count": null,
   "id": "717bfdf5",
   "metadata": {},
   "outputs": [],
   "source": []
  },
  {
   "cell_type": "code",
   "execution_count": 51,
   "id": "5e66e480",
   "metadata": {},
   "outputs": [],
   "source": [
    "#loss_train=[]\n",
    "#loss_test=[]\n",
    "#loss_train_mean=[]\n",
    "#loss_test_mean=[]\n",
    "#for i in range(7):\n",
    "#    window_size=15*(i+1)\n",
    "#    X,y=df_to_X_y(df,window_size)\n",
    "#    X_train, X_test, y_train, y_test = train_test_split(X[:],\n",
    "#                                                        y[:],\n",
    "#                                                        test_size = 0.10,\n",
    "#                                                        random_state =123,\n",
    "#                                                        shuffle=False)\n",
    "#    parting=X_test.shape[0]//100\n",
    "#    X_train_part=X_train[::parting]\n",
    "#    X_test_part=X_test[::parting]\n",
    "#    y_train_part=y_train[::parting]\n",
    "#    y_test_part=y_test[::parting]\n",
    "#    loss=train(drop=0.2, learning_rate=0.004, batch_size=100, epochs=20, momentum=0.9,hidden_size=64,decay=0.00000001)\n",
    "#    loss_train_mean.append(np.mean(loss[0]))\n",
    "#    loss_test_mean.append(np.mean(loss[1]))\n",
    "#    loss_train.append(loss[0])\n",
    "#    loss_test.append(loss[1])\n",
    "#    print(i)"
   ]
  },
  {
   "cell_type": "code",
   "execution_count": null,
   "id": "b6189f07",
   "metadata": {},
   "outputs": [],
   "source": []
  },
  {
   "cell_type": "code",
   "execution_count": 15,
   "id": "59f962cb",
   "metadata": {},
   "outputs": [
    {
     "name": "stderr",
     "output_type": "stream",
     "text": [
      "G:\\anaconda3\\lib\\site-packages\\torch\\nn\\functional.py:1933: UserWarning: nn.functional.tanh is deprecated. Use torch.tanh instead.\n",
      "  warnings.warn(\"nn.functional.tanh is deprecated. Use torch.tanh instead.\")\n"
     ]
    },
    {
     "data": {
      "text/plain": [
       "tensor([[2241.0277],\n",
       "        [2302.1876],\n",
       "        [2296.7581],\n",
       "        [2301.7366],\n",
       "        [2329.3609],\n",
       "        [2250.5947],\n",
       "        [2344.5514],\n",
       "        [2286.2322],\n",
       "        [2292.1030],\n",
       "        [2230.7599]], device='cuda:0', dtype=torch.float64,\n",
       "       grad_fn=<MmBackward0>)"
      ]
     },
     "execution_count": 15,
     "metadata": {},
     "output_type": "execute_result"
    }
   ],
   "source": [
    "net=loss[2]\n",
    "net(torch.tensor(X_test[:10],device=\"cuda\") )"
   ]
  },
  {
   "cell_type": "code",
   "execution_count": 17,
   "id": "9d0ec598",
   "metadata": {},
   "outputs": [
    {
     "data": {
      "text/plain": [
       "array([2283.92, 2283.9 , 2285.38, 2285.01, 2284.98, 2284.61, 2285.08,\n",
       "       2283.36, 2283.38, 2283.98])"
      ]
     },
     "execution_count": 17,
     "metadata": {},
     "output_type": "execute_result"
    }
   ],
   "source": [
    "y_test[:10]"
   ]
  },
  {
   "cell_type": "code",
   "execution_count": 32,
   "id": "a6d906ef",
   "metadata": {},
   "outputs": [
    {
     "name": "stdout",
     "output_type": "stream",
     "text": [
      "tensor(0.1250, device='cuda:0', dtype=torch.float64, grad_fn=<MaxBackward1>) tensor(0.1249, device='cuda:0', dtype=torch.float64, grad_fn=<MaxBackward1>) tensor(0.1249, device='cuda:0', dtype=torch.float64, grad_fn=<MaxBackward1>) tensor(0.2793, device='cuda:0', dtype=torch.float64, grad_fn=<MaxBackward1>) tensor(0.1800, device='cuda:0', dtype=torch.float64, grad_fn=<MaxBackward1>)\n"
     ]
    }
   ],
   "source": [
    "\n",
    "print(net.fc2.weight.max(),\n",
    "net.fc3.weight.max(),\n",
    "net.fc4.weight.max(),\n",
    "net.fc5.weight.max(),\n",
    "net.fc6.weight.max())"
   ]
  },
  {
   "cell_type": "code",
   "execution_count": null,
   "id": "f4ce91ae",
   "metadata": {},
   "outputs": [],
   "source": [
    "print(net.fc2.bias,\n",
    "net.fc3.bias,\n",
    "net.fc4.bias)"
   ]
  },
  {
   "cell_type": "code",
   "execution_count": null,
   "id": "b052bb24",
   "metadata": {},
   "outputs": [],
   "source": []
  }
 ],
 "metadata": {
  "kernelspec": {
   "display_name": "Python 3 (ipykernel)",
   "language": "python",
   "name": "python3"
  },
  "language_info": {
   "codemirror_mode": {
    "name": "ipython",
    "version": 3
   },
   "file_extension": ".py",
   "mimetype": "text/x-python",
   "name": "python",
   "nbconvert_exporter": "python",
   "pygments_lexer": "ipython3",
   "version": "3.8.8"
  }
 },
 "nbformat": 4,
 "nbformat_minor": 5
}
